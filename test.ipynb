{
 "cells": [
  {
   "cell_type": "code",
   "execution_count": 34,
   "id": "3efe9e29",
   "metadata": {},
   "outputs": [],
   "source": [
    "import requests\n",
    "from bs4 import BeautifulSoup"
   ]
  },
  {
   "cell_type": "code",
   "execution_count": 35,
   "id": "247cf576",
   "metadata": {},
   "outputs": [],
   "source": [
    "doc_url = \"https://docs.google.com/document/d/1Ga6VNnVF3328Q-ytXMbwgup42Jzh6DEPTbmf2RHVH6A/edit?tab=t.0\""
   ]
  },
  {
   "cell_type": "code",
   "execution_count": 32,
   "id": "d34a6d62",
   "metadata": {},
   "outputs": [],
   "source": [
    "def get_doc(doc_url):\n",
    "    base_url = doc_url.split('/edit')[0] if '/edit' in doc_url else doc_url.split('?')[0]\n",
    "    exp_url = base_url + '/export?format=html'\n",
    "    \n",
    "    response = requests.get(exp_url)\n",
    "    \n",
    "    response.raise_for_status()\n",
    "    return response.text"
   ]
  },
  {
   "cell_type": "code",
   "execution_count": 30,
   "id": "69c822ff",
   "metadata": {},
   "outputs": [],
   "source": [
    "def parse_doc(doc_text):\n",
    "    grid = {}\n",
    "    max_x = 0\n",
    "    max_y = 0\n",
    "    \n",
    "    for line in doc_text.strip().splitlines():\n",
    "        parts = line.strip().split()\n",
    "        if len(parts) < 3:\n",
    "            continue\n",
    "        x_str, char, y_str = parts[0], parts[1], parts[2]\n",
    "        try:\n",
    "            x = int(x_str)\n",
    "            y = int(y_str)\n",
    "        except ValueError:\n",
    "            continue\n",
    "        \n",
    "        grid[(x, y)] = char\n",
    "        max_x = max(max_x, x)\n",
    "        max_y = max(max_y, y)\n",
    "    \n",
    "    # Print the grid with y increasing downward, x increasing rightward\n",
    "    for y in range(max_y + 1):\n",
    "        row_chars = []\n",
    "        for x in range(max_x + 1):\n",
    "            row_chars.append(grid.get((x, y), ' '))\n",
    "        print(''.join(row_chars))"
   ]
  },
  {
   "cell_type": "code",
   "execution_count": 14,
   "id": "3f81b555",
   "metadata": {},
   "outputs": [],
   "source": [
    "def print_grid(doc_url):\n",
    "    doc_text = get_doc(doc_url)\n",
    "    parse_doc(doc_text)"
   ]
  },
  {
   "cell_type": "code",
   "execution_count": 33,
   "id": "d691de86",
   "metadata": {},
   "outputs": [
    {
     "name": "stdout",
     "output_type": "stream",
     "text": [
      " \n"
     ]
    }
   ],
   "source": [
    "test = print_grid(doc_url)\n",
    "test"
   ]
  },
  {
   "cell_type": "code",
   "execution_count": 47,
   "id": "9e938aff",
   "metadata": {},
   "outputs": [],
   "source": [
    "# Required Dependencies.\n",
    "import requests\n",
    "from bs4 import BeautifulSoup\n",
    "\n",
    "# Defining a function to take a google doc and parse the table to decode a secret message.\n",
    "def print_grid_from_table(doc_url):\n",
    "    \"\"\"\n",
    "    Downloads and parses a published Google Doc table containing character coordinates, then prints a secret message.\n",
    "\n",
    "    Args:\n",
    "        doc_url (str): URL of the Google Doc containing a table with columns: x-coordinate, character, y-coordinate.\n",
    "\n",
    "    Prints:\n",
    "        The grid of characters arranged by their (x, y) positions, filling empty spots with spaces.\n",
    "    \"\"\"\n",
    "    \n",
    "    # Fetch the doc as html.\n",
    "    response = requests.get(doc_url)\n",
    "    response.raise_for_status()\n",
    "    html = response.text\n",
    "    \n",
    "    # Using BeautifulSoup html parser to examine table in the response.\n",
    "    soup = BeautifulSoup(html, 'html.parser')\n",
    "    table = soup.find('table')\n",
    "    # Error checking.\n",
    "    if not table:\n",
    "        print(\"No table found in document!\")\n",
    "        return\n",
    "    \n",
    "    # Find table rows.\n",
    "    rows = table.find_all('tr')\n",
    "    \n",
    "    # Create a dict to store characters in a grid.\n",
    "    grid = {}\n",
    "    max_x = 0\n",
    "    max_y = 0\n",
    "    \n",
    "    # Skip header row and parse each row for x, char, y.\n",
    "    for row in rows[1:]:\n",
    "        cells = row.find_all(['td', 'th'])\n",
    "        # Ensuring rows have three cols of data.\n",
    "        if len(cells) < 3:\n",
    "            continue\n",
    "        x_str = cells[0].get_text(strip=True)\n",
    "        char = cells[1].get_text(strip=True)\n",
    "        y_str = cells[2].get_text(strip=True)\n",
    "        \n",
    "        # Data validation for rows with incorrectly formatted data in x / y coords.\n",
    "        try:\n",
    "            x = int(x_str)\n",
    "            y = int(y_str)\n",
    "        except ValueError:\n",
    "            continue\n",
    "        \n",
    "        # Storing the character at the correct position.\n",
    "        grid[(x, y)] = char\n",
    "        max_x = max(max_x, x)\n",
    "        max_y = max(max_y, y)\n",
    "    \n",
    "    # Print rows from top (y=0) to bottom (max_y)\n",
    "    for y in range(max_y, -1, -1):\n",
    "        row_str = ''.join(grid.get((x, y), ' ') for x in range(max_x + 1))\n",
    "        print(row_str)"
   ]
  },
  {
   "cell_type": "code",
   "execution_count": 44,
   "id": "fd4981a0",
   "metadata": {},
   "outputs": [
    {
     "name": "stdout",
     "output_type": "stream",
     "text": [
      "█▀▀▀\n",
      "█▀▀ \n",
      "█   \n"
     ]
    }
   ],
   "source": [
    "test2 = print_grid_from_table(doc_url)"
   ]
  },
  {
   "cell_type": "code",
   "execution_count": 48,
   "id": "043ecc73",
   "metadata": {},
   "outputs": [
    {
     "name": "stdout",
     "output_type": "stream",
     "text": [
      "████████░     ████████░   ██████████░    ███████░  ██░           ███░ ███░    ███░ ██░     ██░\n",
      "██░     ██░ ███░     ███░ ██░          ███░    ██░ ███░   ███░   ██░    ██░  ██░   ██░     ██░\n",
      "██░     ██░ ██░       ██░ ██░         ███░          ██░  █████░ ███░     ██░██░    ██░     ██░\n",
      "████████░   ██░       ██░ ████████░   ██░           ███░ ██░██░ ██░       ███░     ██████████░\n",
      "██░     ██░ ██░       ██░ ██░         ███░           ██░██░ ██░██░       ██░██░    ██░     ██░\n",
      "██░     ██░ ███░     ███░ ██░          ███░    ██░   ████░   ████░      ██░  ██░   ██░     ██░\n",
      "████████░     ████████░   ██████████░    ███████░     ██░     ██░     ███░    ███░ ██░     ██░\n"
     ]
    }
   ],
   "source": [
    "print_grid_from_table(\"https://docs.google.com/document/d/e/2PACX-1vQGUck9HIFCyezsrBSnmENk5ieJuYwpt7YHYEzeNJkIb9OSDdx-ov2nRNReKQyey-cwJOoEKUhLmN9z/pub\")\n"
   ]
  }
 ],
 "metadata": {
  "kernelspec": {
   "display_name": "base",
   "language": "python",
   "name": "python3"
  },
  "language_info": {
   "codemirror_mode": {
    "name": "ipython",
    "version": 3
   },
   "file_extension": ".py",
   "mimetype": "text/x-python",
   "name": "python",
   "nbconvert_exporter": "python",
   "pygments_lexer": "ipython3",
   "version": "3.11.7"
  }
 },
 "nbformat": 4,
 "nbformat_minor": 5
}
