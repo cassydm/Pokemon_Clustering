{
 "cells": [
  {
   "cell_type": "code",
   "execution_count": 4,
   "id": "bf7a77c1",
   "metadata": {},
   "outputs": [],
   "source": [
    "# Required Dependencies.\n",
    "import requests\n",
    "from bs4 import BeautifulSoup\n",
    "\n",
    "# Defining a function to take a google doc and parse the table to decode a secret message.\n",
    "def secret_message(doc_url):\n",
    "    \"\"\"\n",
    "    Downloads and parses a published Google Doc table containing character coordinates, then prints a secret message.\n",
    "\n",
    "    Args:\n",
    "        doc_url (str): URL of the Google Doc containing a table with columns: x-coordinate, character, y-coordinate.\n",
    "\n",
    "    Prints:\n",
    "        The grid of characters arranged by their (x, y) positions, filling empty spots with spaces.\n",
    "    \"\"\"\n",
    "    \n",
    "    # Fetch the doc as html.\n",
    "    response = requests.get(doc_url)\n",
    "    response.raise_for_status()\n",
    "    html = response.text\n",
    "    \n",
    "    # Using BeautifulSoup html parser to examine table in the response.\n",
    "    soup = BeautifulSoup(html, 'html.parser')\n",
    "    table = soup.find('table')\n",
    "    # Error checking.\n",
    "    if not table:\n",
    "        print(\"No table found in document!\")\n",
    "        return\n",
    "    \n",
    "    # Find table rows.\n",
    "    rows = table.find_all('tr')\n",
    "    \n",
    "    # Create a dict to store characters in a grid.\n",
    "    grid = {}\n",
    "    max_x = 0\n",
    "    max_y = 0\n",
    "    \n",
    "    # Skip header row and parse each row for x, char, y.\n",
    "    for row in rows[1:]:\n",
    "        cells = row.find_all(['td', 'th'])\n",
    "        # Ensuring rows have three cols of data.\n",
    "        if len(cells) < 3:\n",
    "            continue\n",
    "        x_str = cells[0].get_text(strip=True)\n",
    "        char = cells[1].get_text(strip=True)\n",
    "        y_str = cells[2].get_text(strip=True)\n",
    "        \n",
    "        # Data validation for rows with incorrectly formatted data in x / y coords.\n",
    "        try:\n",
    "            x = int(x_str)\n",
    "            y = int(y_str)\n",
    "        except ValueError:\n",
    "            continue\n",
    "        \n",
    "        # Storing the character at the correct position.\n",
    "        grid[(x, y)] = char\n",
    "        max_x = max(max_x, x)\n",
    "        max_y = max(max_y, y)\n",
    "    \n",
    "    # Print rows from top (y=0) to bottom (max_y)\n",
    "    for y in range(max_y, -1, -1):\n",
    "        row_str = ''.join(grid.get((x, y), ' ') for x in range(max_x + 1))\n",
    "        print(row_str)"
   ]
  },
  {
   "cell_type": "code",
   "execution_count": 5,
   "id": "64a52c30",
   "metadata": {},
   "outputs": [
    {
     "name": "stdout",
     "output_type": "stream",
     "text": [
      "████████░     ████████░   ██████████░    ███████░  ██░           ███░ ███░    ███░ ██░     ██░\n",
      "██░     ██░ ███░     ███░ ██░          ███░    ██░ ███░   ███░   ██░    ██░  ██░   ██░     ██░\n",
      "██░     ██░ ██░       ██░ ██░         ███░          ██░  █████░ ███░     ██░██░    ██░     ██░\n",
      "████████░   ██░       ██░ ████████░   ██░           ███░ ██░██░ ██░       ███░     ██████████░\n",
      "██░     ██░ ██░       ██░ ██░         ███░           ██░██░ ██░██░       ██░██░    ██░     ██░\n",
      "██░     ██░ ███░     ███░ ██░          ███░    ██░   ████░   ████░      ██░  ██░   ██░     ██░\n",
      "████████░     ████████░   ██████████░    ███████░     ██░     ██░     ███░    ███░ ██░     ██░\n"
     ]
    }
   ],
   "source": [
    "secret_message(\"https://docs.google.com/document/d/e/2PACX-1vQGUck9HIFCyezsrBSnmENk5ieJuYwpt7YHYEzeNJkIb9OSDdx-ov2nRNReKQyey-cwJOoEKUhLmN9z/pub\")\n"
   ]
  }
 ],
 "metadata": {
  "kernelspec": {
   "display_name": "base",
   "language": "python",
   "name": "python3"
  },
  "language_info": {
   "codemirror_mode": {
    "name": "ipython",
    "version": 3
   },
   "file_extension": ".py",
   "mimetype": "text/x-python",
   "name": "python",
   "nbconvert_exporter": "python",
   "pygments_lexer": "ipython3",
   "version": "3.11.7"
  }
 },
 "nbformat": 4,
 "nbformat_minor": 5
}
